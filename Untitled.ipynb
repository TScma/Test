{
 "cells": [
  {
   "cell_type": "code",
   "execution_count": 1,
   "metadata": {},
   "outputs": [],
   "source": [
    "import tensorflow as tf"
   ]
  },
  {
   "cell_type": "code",
   "execution_count": 10,
   "metadata": {},
   "outputs": [],
   "source": [
    "c = ([1,2],4,5)"
   ]
  },
  {
   "cell_type": "code",
   "execution_count": 11,
   "metadata": {},
   "outputs": [
    {
     "data": {
      "text/plain": [
       "([1, 2], 4, 5)"
      ]
     },
     "execution_count": 11,
     "metadata": {},
     "output_type": "execute_result"
    }
   ],
   "source": [
    "c"
   ]
  },
  {
   "cell_type": "code",
   "execution_count": 12,
   "metadata": {},
   "outputs": [],
   "source": [
    "c[0].append(3)"
   ]
  },
  {
   "cell_type": "code",
   "execution_count": 13,
   "metadata": {},
   "outputs": [
    {
     "data": {
      "text/plain": [
       "([1, 2, 3], 4, 5)"
      ]
     },
     "execution_count": 13,
     "metadata": {},
     "output_type": "execute_result"
    }
   ],
   "source": [
    "c"
   ]
  },
  {
   "cell_type": "code",
   "execution_count": 17,
   "metadata": {},
   "outputs": [],
   "source": [
    "l = []\n",
    "for i in range(100):\n",
    "    l.append(i)"
   ]
  },
  {
   "cell_type": "code",
   "execution_count": 19,
   "metadata": {},
   "outputs": [],
   "source": [
    "L = [x for x in range(100)]"
   ]
  },
  {
   "cell_type": "code",
   "execution_count": 23,
   "metadata": {},
   "outputs": [],
   "source": [
    "a = [x for x in range(100) if x%2==1]"
   ]
  },
  {
   "cell_type": "code",
   "execution_count": 27,
   "metadata": {},
   "outputs": [
    {
     "name": "stdout",
     "output_type": "stream",
     "text": [
      "[0, 1, 2, 3, 4, 5, 6, 7, 8, 9, 10, 11, 12, 13, 14, 15, 16, 17, 18, 19, 20, 21, 22, 23, 24, 25, 26, 27, 28, 29, 30, 31, 32, 33, 34, 35, 36, 37, 38, 39, 40, 41, 42, 43, 44, 45, 46, 47, 48, 49, 50, 51, 52, 53, 54, 55, 56, 57, 58, 59, 60, 61, 62, 63, 64, 65, 66, 67, 68, 69, 70, 71, 72, 73, 74, 75, 76, 77, 78, 79, 80, 81, 82, 83, 84, 85, 86, 87, 88, 89, 90, 91, 92, 93, 94, 95, 96, 97, 98, 99]\n"
     ]
    }
   ],
   "source": [
    "print(L)"
   ]
  },
  {
   "cell_type": "code",
   "execution_count": 31,
   "metadata": {},
   "outputs": [
    {
     "data": {
      "text/plain": [
       "[10, 8, 6, 4]"
      ]
     },
     "execution_count": 31,
     "metadata": {},
     "output_type": "execute_result"
    }
   ],
   "source": [
    "L[10:2:-2]"
   ]
  },
  {
   "cell_type": "code",
   "execution_count": 33,
   "metadata": {},
   "outputs": [
    {
     "name": "stdout",
     "output_type": "stream",
     "text": [
      "[99, 98, 97, 96, 95, 94, 93, 92, 91, 90, 89, 88, 87, 86, 85, 84, 83, 82, 81, 80, 79, 78, 77, 76, 75, 74, 73, 72, 71, 70, 69, 68, 67, 66, 65, 64, 63, 62, 61, 60, 59, 58, 57, 56, 55, 54, 53, 52, 51, 50, 49, 48, 47, 46, 45, 44, 43, 42, 41, 40, 39, 38, 37, 36, 35, 34, 33, 32, 31, 30, 29, 28, 27, 26, 25, 24, 23, 22, 21, 20, 19, 18, 17, 16, 15, 14, 13, 12, 11, 10, 9, 8, 7, 6, 5, 4, 3, 2, 1, 0]\n"
     ]
    }
   ],
   "source": [
    "print(L[::-1])"
   ]
  },
  {
   "cell_type": "code",
   "execution_count": 11,
   "metadata": {},
   "outputs": [
    {
     "name": "stdout",
     "output_type": "stream",
     "text": [
      "1213487\n"
     ]
    }
   ],
   "source": [
    "age = input()"
   ]
  },
  {
   "cell_type": "code",
   "execution_count": 14,
   "metadata": {},
   "outputs": [
    {
     "data": {
      "text/plain": [
       "1213487"
      ]
     },
     "execution_count": 14,
     "metadata": {},
     "output_type": "execute_result"
    }
   ],
   "source": [
    "int(age)"
   ]
  },
  {
   "cell_type": "code",
   "execution_count": 6,
   "metadata": {},
   "outputs": [],
   "source": [
    "a = 's'"
   ]
  },
  {
   "cell_type": "code",
   "execution_count": 7,
   "metadata": {},
   "outputs": [],
   "source": [
    "i = a"
   ]
  },
  {
   "cell_type": "code",
   "execution_count": 8,
   "metadata": {},
   "outputs": [
    {
     "data": {
      "text/plain": [
       "'s'"
      ]
     },
     "execution_count": 8,
     "metadata": {},
     "output_type": "execute_result"
    }
   ],
   "source": [
    "i"
   ]
  },
  {
   "cell_type": "code",
   "execution_count": 9,
   "metadata": {},
   "outputs": [],
   "source": [
    "a = 'b'"
   ]
  },
  {
   "cell_type": "code",
   "execution_count": 10,
   "metadata": {},
   "outputs": [
    {
     "data": {
      "text/plain": [
       "'s'"
      ]
     },
     "execution_count": 10,
     "metadata": {},
     "output_type": "execute_result"
    }
   ],
   "source": [
    "i"
   ]
  },
  {
   "cell_type": "code",
   "execution_count": 1,
   "metadata": {},
   "outputs": [],
   "source": [
    "def print_name(name):\n",
    "    print(name,\"哈哈哈哈\")"
   ]
  },
  {
   "cell_type": "code",
   "execution_count": 2,
   "metadata": {},
   "outputs": [
    {
     "name": "stdout",
     "output_type": "stream",
     "text": [
      "xiaoming 哈哈哈哈\n"
     ]
    }
   ],
   "source": [
    "print_name(\"xiaoming\")"
   ]
  },
  {
   "cell_type": "code",
   "execution_count": 3,
   "metadata": {},
   "outputs": [
    {
     "name": "stdout",
     "output_type": "stream",
     "text": [
      "xiaoming 哈哈哈哈\n"
     ]
    }
   ],
   "source": [
    "print(\"xiaoming\",\"哈哈哈哈\")"
   ]
  },
  {
   "cell_type": "code",
   "execution_count": 5,
   "metadata": {},
   "outputs": [],
   "source": [
    "def add1(a,b):\n",
    "    return a+b"
   ]
  },
  {
   "cell_type": "code",
   "execution_count": 8,
   "metadata": {},
   "outputs": [],
   "source": [
    "a = add1(\"12\",\"45\")"
   ]
  },
  {
   "cell_type": "code",
   "execution_count": 9,
   "metadata": {},
   "outputs": [
    {
     "data": {
      "text/plain": [
       "'1245'"
      ]
     },
     "execution_count": 9,
     "metadata": {},
     "output_type": "execute_result"
    }
   ],
   "source": [
    "a"
   ]
  },
  {
   "cell_type": "code",
   "execution_count": 12,
   "metadata": {},
   "outputs": [
    {
     "data": {
      "text/plain": [
       "11"
      ]
     },
     "execution_count": 12,
     "metadata": {},
     "output_type": "execute_result"
    }
   ],
   "source": [
    "abs(-11)"
   ]
  },
  {
   "cell_type": "code",
   "execution_count": 17,
   "metadata": {},
   "outputs": [
    {
     "name": "stdout",
     "output_type": "stream",
     "text": [
      "[4, 5, 7, 2, 1]\n"
     ]
    }
   ],
   "source": [
    "b = []\n",
    "with open('D:/JupyterNotebook/a.txt','r') as f:\n",
    "    a = f.read()\n",
    "    a = a.split('，')\n",
    "    for x in a:\n",
    "       b.append(int(x)) \n",
    "print(b)"
   ]
  },
  {
   "cell_type": "code",
   "execution_count": 24,
   "metadata": {},
   "outputs": [],
   "source": [
    "sortb = sorted(b)"
   ]
  },
  {
   "cell_type": "code",
   "execution_count": 27,
   "metadata": {},
   "outputs": [],
   "source": [
    "with open('D:/JupyterNotebook/b.txt','w') as f:\n",
    "    for i in b:\n",
    "        f.write(str(i)+\" \")"
   ]
  },
  {
   "cell_type": "code",
   "execution_count": 35,
   "metadata": {},
   "outputs": [
    {
     "name": "stdout",
     "output_type": "stream",
     "text": [
      " 1 x  1 =  1 \n",
      " 1 x  2 =  2  2 x  2 =  4 \n",
      " 1 x  3 =  3  2 x  3 =  6  3 x  3 =  9 \n",
      " 1 x  4 =  4  2 x  4 =  8  3 x  4 = 12  4 x  4 = 16 \n",
      " 1 x  5 =  5  2 x  5 = 10  3 x  5 = 15  4 x  5 = 20  5 x  5 = 25 \n",
      " 1 x  6 =  6  2 x  6 = 12  3 x  6 = 18  4 x  6 = 24  5 x  6 = 30  6 x  6 = 36 \n",
      " 1 x  7 =  7  2 x  7 = 14  3 x  7 = 21  4 x  7 = 28  5 x  7 = 35  6 x  7 = 42  7 x  7 = 49 \n",
      " 1 x  8 =  8  2 x  8 = 16  3 x  8 = 24  4 x  8 = 32  5 x  8 = 40  6 x  8 = 48  7 x  8 = 56  8 x  8 = 64 \n",
      " 1 x  9 =  9  2 x  9 = 18  3 x  9 = 27  4 x  9 = 36  5 x  9 = 45  6 x  9 = 54  7 x  9 = 63  8 x  9 = 72  9 x  9 = 81 \n"
     ]
    }
   ],
   "source": [
    "for i in range(1,10):\n",
    "    for j in range(1,i+1):\n",
    "        print('%2d x %2d = %2d ' %(j,i,i*j),end = \"\")\n",
    "    print()"
   ]
  },
  {
   "cell_type": "code",
   "execution_count": 4,
   "metadata": {},
   "outputs": [],
   "source": [
    "from pyecharts import Geo"
   ]
  },
  {
   "cell_type": "code",
   "execution_count": 1,
   "metadata": {},
   "outputs": [
    {
     "name": "stdout",
     "output_type": "stream",
     "text": [
      "\n",
      "{\n",
      "    \"title\": [\n",
      "        {\n",
      "            \"text\": \"\\u6211\\u7684\\u7b2c\\u4e00\\u4e2a\\u56fe\\u8868\",\n",
      "            \"subtext\": \"\\u8fd9\\u91cc\\u662f\\u526f\\u6807\\u9898\",\n",
      "            \"left\": \"auto\",\n",
      "            \"top\": \"auto\",\n",
      "            \"textStyle\": {\n",
      "                \"fontSize\": 18\n",
      "            },\n",
      "            \"subtextStyle\": {\n",
      "                \"fontSize\": 12\n",
      "            }\n",
      "        }\n",
      "    ],\n",
      "    \"toolbox\": {\n",
      "        \"show\": true,\n",
      "        \"orient\": \"vertical\",\n",
      "        \"left\": \"95%\",\n",
      "        \"top\": \"center\",\n",
      "        \"feature\": {\n",
      "            \"saveAsImage\": {\n",
      "                \"show\": true,\n",
      "                \"title\": \"save as image\"\n",
      "            },\n",
      "            \"restore\": {\n",
      "                \"show\": true,\n",
      "                \"title\": \"restore\"\n",
      "            },\n",
      "            \"dataView\": {\n",
      "                \"show\": true,\n",
      "                \"title\": \"data view\"\n",
      "            }\n",
      "        }\n",
      "    },\n",
      "    \"series_id\": 3855237,\n",
      "    \"tooltip\": {\n",
      "        \"trigger\": \"item\",\n",
      "        \"triggerOn\": \"mousemove|click\",\n",
      "        \"axisPointer\": {\n",
      "            \"type\": \"line\"\n",
      "        },\n",
      "        \"textStyle\": {\n",
      "            \"fontSize\": 14\n",
      "        },\n",
      "        \"backgroundColor\": \"rgba(50,50,50,0.7)\",\n",
      "        \"borderColor\": \"#333\",\n",
      "        \"borderWidth\": 0\n",
      "    },\n",
      "    \"series\": [\n",
      "        {\n",
      "            \"type\": \"bar\",\n",
      "            \"name\": \"\\u670d\\u88c5\",\n",
      "            \"data\": [\n",
      "                5,\n",
      "                20,\n",
      "                36,\n",
      "                10,\n",
      "                75,\n",
      "                90\n",
      "            ],\n",
      "            \"barCategoryGap\": \"20%\",\n",
      "            \"label\": {\n",
      "                \"normal\": {\n",
      "                    \"show\": false,\n",
      "                    \"position\": \"top\",\n",
      "                    \"textStyle\": {\n",
      "                        \"fontSize\": 12\n",
      "                    }\n",
      "                },\n",
      "                \"emphasis\": {\n",
      "                    \"show\": true,\n",
      "                    \"textStyle\": {\n",
      "                        \"fontSize\": 12\n",
      "                    }\n",
      "                }\n",
      "            },\n",
      "            \"markPoint\": {\n",
      "                \"data\": []\n",
      "            },\n",
      "            \"markLine\": {\n",
      "                \"data\": []\n",
      "            },\n",
      "            \"seriesId\": 3855237\n",
      "        }\n",
      "    ],\n",
      "    \"legend\": [\n",
      "        {\n",
      "            \"data\": [\n",
      "                \"\\u670d\\u88c5\"\n",
      "            ],\n",
      "            \"selectedMode\": \"multiple\",\n",
      "            \"show\": true,\n",
      "            \"left\": \"center\",\n",
      "            \"top\": \"top\",\n",
      "            \"orient\": \"horizontal\",\n",
      "            \"textStyle\": {\n",
      "                \"fontSize\": 12\n",
      "            }\n",
      "        }\n",
      "    ],\n",
      "    \"animation\": true,\n",
      "    \"xAxis\": [\n",
      "        {\n",
      "            \"show\": true,\n",
      "            \"nameLocation\": \"middle\",\n",
      "            \"nameGap\": 25,\n",
      "            \"nameTextStyle\": {\n",
      "                \"fontSize\": 14\n",
      "            },\n",
      "            \"axisTick\": {\n",
      "                \"alignWithLabel\": false\n",
      "            },\n",
      "            \"inverse\": false,\n",
      "            \"boundaryGap\": true,\n",
      "            \"type\": \"category\",\n",
      "            \"splitLine\": {\n",
      "                \"show\": false\n",
      "            },\n",
      "            \"axisLine\": {\n",
      "                \"lineStyle\": {\n",
      "                    \"width\": 1\n",
      "                }\n",
      "            },\n",
      "            \"axisLabel\": {\n",
      "                \"interval\": \"auto\",\n",
      "                \"rotate\": 0,\n",
      "                \"margin\": 8,\n",
      "                \"textStyle\": {\n",
      "                    \"fontSize\": 12\n",
      "                }\n",
      "            },\n",
      "            \"data\": [\n",
      "                \"\\u886c\\u886b\",\n",
      "                \"\\u7f8a\\u6bdb\\u886b\",\n",
      "                \"\\u96ea\\u7eba\\u886b\",\n",
      "                \"\\u88e4\\u5b50\",\n",
      "                \"\\u9ad8\\u8ddf\\u978b\",\n",
      "                \"\\u889c\\u5b50\"\n",
      "            ]\n",
      "        }\n",
      "    ],\n",
      "    \"yAxis\": [\n",
      "        {\n",
      "            \"show\": true,\n",
      "            \"nameLocation\": \"middle\",\n",
      "            \"nameGap\": 25,\n",
      "            \"nameTextStyle\": {\n",
      "                \"fontSize\": 14\n",
      "            },\n",
      "            \"axisTick\": {\n",
      "                \"alignWithLabel\": false\n",
      "            },\n",
      "            \"inverse\": false,\n",
      "            \"boundaryGap\": true,\n",
      "            \"type\": \"value\",\n",
      "            \"splitLine\": {\n",
      "                \"show\": true\n",
      "            },\n",
      "            \"axisLine\": {\n",
      "                \"lineStyle\": {\n",
      "                    \"width\": 1\n",
      "                }\n",
      "            },\n",
      "            \"axisLabel\": {\n",
      "                \"interval\": \"auto\",\n",
      "                \"formatter\": \"{value} \",\n",
      "                \"rotate\": 0,\n",
      "                \"margin\": 8,\n",
      "                \"textStyle\": {\n",
      "                    \"fontSize\": 12\n",
      "                }\n",
      "            }\n",
      "        }\n",
      "    ],\n",
      "    \"color\": [\n",
      "        \"#c23531\",\n",
      "        \"#2f4554\",\n",
      "        \"#61a0a8\",\n",
      "        \"#d48265\",\n",
      "        \"#749f83\",\n",
      "        \"#ca8622\",\n",
      "        \"#bda29a\",\n",
      "        \"#6e7074\",\n",
      "        \"#546570\",\n",
      "        \"#c4ccd3\",\n",
      "        \"#f05b72\",\n",
      "        \"#ef5b9c\",\n",
      "        \"#f47920\",\n",
      "        \"#905a3d\",\n",
      "        \"#fab27b\",\n",
      "        \"#2a5caa\",\n",
      "        \"#444693\",\n",
      "        \"#726930\",\n",
      "        \"#b2d235\",\n",
      "        \"#6d8346\",\n",
      "        \"#ac6767\",\n",
      "        \"#1d953f\",\n",
      "        \"#6950a1\",\n",
      "        \"#918597\",\n",
      "        \"#f6f5ec\"\n",
      "    ]\n",
      "}\n"
     ]
    }
   ],
   "source": [
    "from pyecharts import Bar\n",
    "\n",
    "bar = Bar(\"我的第一个图表\", \"这里是副标题\")\n",
    "bar.add(\"服装\", [\"衬衫\", \"羊毛衫\", \"雪纺衫\", \"裤子\", \"高跟鞋\", \"袜子\"], [5, 20, 36, 10, 75, 90])\n",
    "bar1 = Bar(\"我的第2个图表\", \"这里是副标题\")\n",
    "bar1.add(\"服装\", [\"衬衫\", \"羊毛衫\", \"雪纺衫\", \"裤子\", \"高跟鞋\", \"袜子\"], [15, 20, 36, 10, 75, 90])\n",
    "bar.show_config()\n",
    "bar.render('./graphs/bar.html')"
   ]
  },
  {
   "cell_type": "code",
   "execution_count": 7,
   "metadata": {},
   "outputs": [
    {
     "ename": "TypeError",
     "evalue": "__add() missing 2 required positional arguments: 'attr' and 'value'",
     "output_type": "error",
     "traceback": [
      "\u001b[1;31m---------------------------------------------------------------------------\u001b[0m",
      "\u001b[1;31mTypeError\u001b[0m                                 Traceback (most recent call last)",
      "\u001b[1;32m<ipython-input-7-79ecba0215df>\u001b[0m in \u001b[0;36m<module>\u001b[1;34m()\u001b[0m\n\u001b[0;32m      5\u001b[0m \u001b[1;31m#           width=1200, height=600, background_color='#404a59')\u001b[0m\u001b[1;33m\u001b[0m\u001b[1;33m\u001b[0m\u001b[0m\n\u001b[0;32m      6\u001b[0m \u001b[1;31m# attr, value = geo.cast(data)\u001b[0m\u001b[1;33m\u001b[0m\u001b[1;33m\u001b[0m\u001b[0m\n\u001b[1;32m----> 7\u001b[1;33m \u001b[0mgeo\u001b[0m\u001b[1;33m.\u001b[0m\u001b[0madd\u001b[0m\u001b[1;33m(\u001b[0m\u001b[1;34m\"\"\u001b[0m\u001b[1;33m,\u001b[0m \u001b[0mtype\u001b[0m\u001b[1;33m=\u001b[0m\u001b[1;34m\"effectScatter\"\u001b[0m\u001b[1;33m,\u001b[0m \u001b[0mis_random\u001b[0m\u001b[1;33m=\u001b[0m\u001b[1;32mTrue\u001b[0m\u001b[1;33m,\u001b[0m \u001b[0meffect_scale\u001b[0m\u001b[1;33m=\u001b[0m\u001b[1;36m5\u001b[0m\u001b[1;33m)\u001b[0m\u001b[1;33m\u001b[0m\u001b[0m\n\u001b[0m\u001b[0;32m      8\u001b[0m \u001b[0mgeo\u001b[0m\u001b[1;33m.\u001b[0m\u001b[0mshow_config\u001b[0m\u001b[1;33m(\u001b[0m\u001b[1;33m)\u001b[0m\u001b[1;33m\u001b[0m\u001b[0m\n\u001b[0;32m      9\u001b[0m \u001b[0mgeo\u001b[0m\u001b[1;33m.\u001b[0m\u001b[0mrender\u001b[0m\u001b[1;33m(\u001b[0m\u001b[1;33m)\u001b[0m\u001b[1;33m\u001b[0m\u001b[0m\n",
      "\u001b[1;32mc:\\users\\11584\\appdata\\local\\programs\\python\\python36\\lib\\site-packages\\pyecharts\\charts\\geo.py\u001b[0m in \u001b[0;36madd\u001b[1;34m(self, *args, **kwargs)\u001b[0m\n\u001b[0;32m     64\u001b[0m \u001b[1;33m\u001b[0m\u001b[0m\n\u001b[0;32m     65\u001b[0m     \u001b[1;32mdef\u001b[0m \u001b[0madd\u001b[0m\u001b[1;33m(\u001b[0m\u001b[0mself\u001b[0m\u001b[1;33m,\u001b[0m \u001b[1;33m*\u001b[0m\u001b[0margs\u001b[0m\u001b[1;33m,\u001b[0m \u001b[1;33m**\u001b[0m\u001b[0mkwargs\u001b[0m\u001b[1;33m)\u001b[0m\u001b[1;33m:\u001b[0m\u001b[1;33m\u001b[0m\u001b[0m\n\u001b[1;32m---> 66\u001b[1;33m         \u001b[0mself\u001b[0m\u001b[1;33m.\u001b[0m\u001b[0m__add\u001b[0m\u001b[1;33m(\u001b[0m\u001b[1;33m*\u001b[0m\u001b[0margs\u001b[0m\u001b[1;33m,\u001b[0m \u001b[1;33m**\u001b[0m\u001b[0mkwargs\u001b[0m\u001b[1;33m)\u001b[0m\u001b[1;33m\u001b[0m\u001b[0m\n\u001b[0m\u001b[0;32m     67\u001b[0m         \u001b[1;32mreturn\u001b[0m \u001b[0mself\u001b[0m\u001b[1;33m\u001b[0m\u001b[0m\n\u001b[0;32m     68\u001b[0m \u001b[1;33m\u001b[0m\u001b[0m\n",
      "\u001b[1;31mTypeError\u001b[0m: __add() missing 2 required positional arguments: 'attr' and 'value'"
     ]
    }
   ],
   "source": [
    "from pyecharts import Geo\n",
    "\n",
    "data = [(\"海门\", 9), (\"鄂尔多斯\", 12), (\"招远\", 12), (\"舟山\", 12), (\"齐齐哈尔\", 14), (\"盐城\", 15)]\n",
    "geo = Geo(\"全国主要城市空气质量\", \"data from pm2.5\", title_color=\"#fff\", title_pos=\"center\",\n",
    "          width=1200, height=600, background_color='#404a59')\n",
    "attr, value = geo.cast(data)\n",
    "geo.add(\"\", attr, value, type=\"effectScatter\", is_random=True, effect_scale=5)\n",
    "geo.show_config()\n",
    "geo.render()"
   ]
  },
  {
   "cell_type": "code",
   "execution_count": 2,
   "metadata": {},
   "outputs": [
    {
     "name": "stdout",
     "output_type": "stream",
     "text": [
      "[116.407526, 39.90403]\n"
     ]
    }
   ],
   "source": [
    "from pyecharts.datasets.coordinates import get_coordinate\n",
    "\n",
    "coordinate = get_coordinate('北京')\n",
    "print(coordinate)"
   ]
  },
  {
   "cell_type": "code",
   "execution_count": 9,
   "metadata": {},
   "outputs": [
    {
     "name": "stdout",
     "output_type": "stream",
     "text": [
      "\n",
      "{\n",
      "    \"title\": [\n",
      "        {\n",
      "            \"text\": \"\\u5e7f\\u4e1c\\u5730\\u56fe\\u793a\\u4f8b\",\n",
      "            \"left\": \"auto\",\n",
      "            \"top\": \"auto\",\n",
      "            \"textStyle\": {\n",
      "                \"fontSize\": 18\n",
      "            },\n",
      "            \"subtextStyle\": {\n",
      "                \"fontSize\": 12\n",
      "            }\n",
      "        }\n",
      "    ],\n",
      "    \"toolbox\": {\n",
      "        \"show\": true,\n",
      "        \"orient\": \"vertical\",\n",
      "        \"left\": \"95%\",\n",
      "        \"top\": \"center\",\n",
      "        \"feature\": {\n",
      "            \"saveAsImage\": {\n",
      "                \"show\": true,\n",
      "                \"title\": \"save as image\"\n",
      "            },\n",
      "            \"restore\": {\n",
      "                \"show\": true,\n",
      "                \"title\": \"restore\"\n",
      "            },\n",
      "            \"dataView\": {\n",
      "                \"show\": true,\n",
      "                \"title\": \"data view\"\n",
      "            }\n",
      "        }\n",
      "    },\n",
      "    \"series_id\": 4413028,\n",
      "    \"tooltip\": {\n",
      "        \"trigger\": \"item\",\n",
      "        \"triggerOn\": \"mousemove|click\",\n",
      "        \"axisPointer\": {\n",
      "            \"type\": \"line\"\n",
      "        },\n",
      "        \"textStyle\": {\n",
      "            \"fontSize\": 14\n",
      "        },\n",
      "        \"backgroundColor\": \"rgba(50,50,50,0.7)\",\n",
      "        \"borderColor\": \"#333\",\n",
      "        \"borderWidth\": 0\n",
      "    },\n",
      "    \"series\": [\n",
      "        {\n",
      "            \"type\": \"map\",\n",
      "            \"symbol\": \"circle\",\n",
      "            \"label\": {\n",
      "                \"normal\": {\n",
      "                    \"show\": false,\n",
      "                    \"position\": \"top\",\n",
      "                    \"textStyle\": {\n",
      "                        \"fontSize\": 12\n",
      "                    }\n",
      "                },\n",
      "                \"emphasis\": {\n",
      "                    \"show\": true,\n",
      "                    \"textStyle\": {\n",
      "                        \"fontSize\": 12\n",
      "                    }\n",
      "                }\n",
      "            },\n",
      "            \"mapType\": \"\\u5e7f\\u4e1c\",\n",
      "            \"data\": [\n",
      "                {\n",
      "                    \"name\": \"\\u6c55\\u5934\\u5e02\",\n",
      "                    \"value\": 20\n",
      "                },\n",
      "                {\n",
      "                    \"name\": \"\\u6c55\\u5c3e\\u5e02\",\n",
      "                    \"value\": 190\n",
      "                },\n",
      "                {\n",
      "                    \"name\": \"\\u63ed\\u9633\\u5e02\",\n",
      "                    \"value\": 253\n",
      "                },\n",
      "                {\n",
      "                    \"name\": \"\\u9633\\u6c5f\\u5e02\",\n",
      "                    \"value\": 77\n",
      "                },\n",
      "                {\n",
      "                    \"name\": \"\\u8087\\u5e86\\u5e02\",\n",
      "                    \"value\": 65\n",
      "                }\n",
      "            ],\n",
      "            \"roam\": true,\n",
      "            \"showLegendSymbol\": true\n",
      "        }\n",
      "    ],\n",
      "    \"legend\": [\n",
      "        {\n",
      "            \"data\": [\n",
      "                \"\"\n",
      "            ],\n",
      "            \"selectedMode\": \"multiple\",\n",
      "            \"show\": true,\n",
      "            \"left\": \"center\",\n",
      "            \"top\": \"top\",\n",
      "            \"orient\": \"horizontal\",\n",
      "            \"textStyle\": {\n",
      "                \"fontSize\": 12\n",
      "            }\n",
      "        }\n",
      "    ],\n",
      "    \"animation\": true,\n",
      "    \"color\": [\n",
      "        \"#c23531\",\n",
      "        \"#2f4554\",\n",
      "        \"#61a0a8\",\n",
      "        \"#d48265\",\n",
      "        \"#749f83\",\n",
      "        \"#ca8622\",\n",
      "        \"#bda29a\",\n",
      "        \"#6e7074\",\n",
      "        \"#546570\",\n",
      "        \"#c4ccd3\",\n",
      "        \"#f05b72\",\n",
      "        \"#ef5b9c\",\n",
      "        \"#f47920\",\n",
      "        \"#905a3d\",\n",
      "        \"#fab27b\",\n",
      "        \"#2a5caa\",\n",
      "        \"#444693\",\n",
      "        \"#726930\",\n",
      "        \"#b2d235\",\n",
      "        \"#6d8346\",\n",
      "        \"#ac6767\",\n",
      "        \"#1d953f\",\n",
      "        \"#6950a1\",\n",
      "        \"#918597\",\n",
      "        \"#f6f5ec\"\n",
      "    ],\n",
      "    \"visualMap\": {\n",
      "        \"type\": \"continuous\",\n",
      "        \"min\": 0,\n",
      "        \"max\": 100,\n",
      "        \"text\": [\n",
      "            \"high\",\n",
      "            \"low\"\n",
      "        ],\n",
      "        \"textStyle\": {\n",
      "            \"color\": \"#000\"\n",
      "        },\n",
      "        \"inRange\": {\n",
      "            \"color\": [\n",
      "                \"#50a3ba\",\n",
      "                \"#eac763\",\n",
      "                \"#d94e5d\"\n",
      "            ]\n",
      "        },\n",
      "        \"calculable\": true,\n",
      "        \"splitNumber\": 5,\n",
      "        \"orient\": \"vertical\",\n",
      "        \"left\": \"left\",\n",
      "        \"top\": \"bottom\",\n",
      "        \"showLabel\": true\n",
      "    }\n",
      "}\n"
     ]
    }
   ],
   "source": [
    "from pyecharts import Map\n",
    "value =[20, 190, 253, 77, 65]\n",
    "attr =['汕头市', '汕尾市', '揭阳市', '阳江市', '肇庆市']\n",
    "map=Map(\"广东地图示例\", width=1200, height=600)\n",
    "map.add(\"\", attr, value, maptype='广东', is_visualmap=True, visual_text_color='#000')\n",
    "map.show_config()\n",
    "map.render()"
   ]
  },
  {
   "cell_type": "code",
   "execution_count": 37,
   "metadata": {},
   "outputs": [],
   "source": [
    "from pyecharts import Graph\n",
    "\n",
    "nodes = [{\"name\": \"Alice\", \"symbolSize\": 30,\"category\":1,\"value\":123},\n",
    "         {\"name\": \"Bob\", \"symbolSize\": 70,\"category\":2,\"value\":\"B\"},\n",
    "         {\"name\": \"Cath\", \"symbolSize\": 30,\"category\":3,\"value\":\"C\"},\n",
    "         {\"name\": \"Doph\", \"symbolSize\": 30,\"category\":4,\"value\":\"D\"},\n",
    "         {\"name\": \"Eva\", \"symbolSize\": 30,\"category\":5,\"value\":\"E\"},\n",
    "         {\"name\": \"Fran\", \"symbolSize\": 30,\"category\":6,\"value\":\"F\"},\n",
    "         {\"name\": \"Greece\", \"symbolSize\": 30,\"category\":7,\"value\":\"G\"},\n",
    "         {\"name\": \"Hali\", \"symbolSize\": 30,\"category\":8,\"value\":\"H\"}]\n",
    "links = [{\"source\":\"Alice\", \"target\":\"Bob\"},\n",
    "         {\"source\":\"Hali\", \"target\":\"Bob\"},\n",
    "         {\"source\":\"Alice\", \"target\":\"Doph\"},\n",
    "         {\"source\":\"Fran\", \"target\":\"Bob\"},\n",
    "         {\"source\":\"Greece\", \"target\":\"Cath\"},\n",
    "         {\"source\":\"Cath\", \"target\":\"Bob\"},\n",
    "         {\"source\":\"Eva\", \"target\":\"Bob\",\"value\":6000},\n",
    "        ]\n",
    "graph = Graph(\"关系图-力引导布局示例\",width=1200, height=600)\n",
    "graph.add(\"\", nodes, links,categories=[1,2,3,4,5,6,7,8],graph_repulsion=700)\n",
    "graph.render()"
   ]
  },
  {
   "cell_type": "code",
   "execution_count": null,
   "metadata": {},
   "outputs": [],
   "source": []
  }
 ],
 "metadata": {
  "kernelspec": {
   "display_name": "Python 3",
   "language": "python",
   "name": "python3"
  },
  "language_info": {
   "codemirror_mode": {
    "name": "ipython",
    "version": 3
   },
   "file_extension": ".py",
   "mimetype": "text/x-python",
   "name": "python",
   "nbconvert_exporter": "python",
   "pygments_lexer": "ipython3",
   "version": "3.6.5"
  }
 },
 "nbformat": 4,
 "nbformat_minor": 2
}
